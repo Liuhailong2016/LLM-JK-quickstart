{
 "cells": [
  {
   "cell_type": "markdown",
   "id": "886ed769-07f9-474f-9f86-c9f1f17345e4",
   "metadata": {},
   "source": [
    "## 使用微调后的 LLaMA2-7B 推理"
   ]
  },
  {
   "cell_type": "code",
   "execution_count": null,
   "id": "24f9cf61-2994-48c7-9a42-150920397a93",
   "metadata": {},
   "outputs": [],
   "source": []
  },
  {
   "cell_type": "code",
   "execution_count": 1,
   "id": "1c571fa5-aa51-495c-8b3d-d5605a02e491",
   "metadata": {},
   "outputs": [
    {
     "name": "stderr",
     "output_type": "stream",
     "text": [
      "/home/rr-ai/anaconda3/envs/fine_tuning_transformers/lib/python3.11/site-packages/tqdm/auto.py:21: TqdmWarning: IProgress not found. Please update jupyter and ipywidgets. See https://ipywidgets.readthedocs.io/en/stable/user_install.html\n",
      "  from .autonotebook import tqdm as notebook_tqdm\n",
      "Loading checkpoint shards:   0%|                                                            | 0/3 [00:00<?, ?it/s]/home/rr-ai/anaconda3/envs/fine_tuning_transformers/lib/python3.11/site-packages/torch/_utils.py:831: UserWarning: TypedStorage is deprecated. It will be removed in the future and UntypedStorage will be the only storage class. This should only matter to you if you are using storages directly.  To access UntypedStorage directly, use tensor.untyped_storage() instead of tensor.storage()\n",
      "  return self.fget.__get__(instance, owner)()\n",
      "Loading checkpoint shards: 100%|████████████████████████████████████████████████████| 3/3 [00:03<00:00,  1.23s/it]\n",
      "/home/rr-ai/anaconda3/envs/fine_tuning_transformers/lib/python3.11/site-packages/transformers/generation/configuration_utils.py:392: UserWarning: `do_sample` is set to `False`. However, `temperature` is set to `0.9` -- this flag is only used in sample-based generation modes. You should set `do_sample=True` or unset `temperature`. This was detected when initializing the generation config instance, which means the corresponding file may hold incorrect parameterization and should be fixed.\n",
      "  warnings.warn(\n",
      "/home/rr-ai/anaconda3/envs/fine_tuning_transformers/lib/python3.11/site-packages/transformers/generation/configuration_utils.py:397: UserWarning: `do_sample` is set to `False`. However, `top_p` is set to `0.6` -- this flag is only used in sample-based generation modes. You should set `do_sample=True` or unset `top_p`. This was detected when initializing the generation config instance, which means the corresponding file may hold incorrect parameterization and should be fixed.\n",
      "  warnings.warn(\n"
     ]
    }
   ],
   "source": [
    "import torch\n",
    "from peft import AutoPeftModelForCausalLM\n",
    "from transformers import AutoTokenizer\n",
    "\n",
    "\n",
    "# model_dir = \"models/llama-7-int4-dolly\"\n",
    "# model_dir = '/home/rr-ai/python-project/LLM-JK-quickstart/llama/models/llama-7-int4-dolly-20240313_094918/checkpoint-90'\n",
    "model_dir = '/home/rr-ai/python-project/LLM-JK-quickstart/llama/models/Llama2-Chinese-13b-Chat-int4-finfq-20240314_170706/'\n",
    "\n",
    "# 加载基础LLM模型与分词器\n",
    "model = AutoPeftModelForCausalLM.from_pretrained(\n",
    "    model_dir,\n",
    "    low_cpu_mem_usage=True,\n",
    "    torch_dtype=torch.float16,\n",
    "    load_in_4bit=True,\n",
    ") \n",
    "tokenizer = AutoTokenizer.from_pretrained(model_dir)"
   ]
  },
  {
   "cell_type": "code",
   "execution_count": 4,
   "id": "7700c042-20cf-4ff1-8c40-a91cabeaaaa6",
   "metadata": {},
   "outputs": [
    {
     "name": "stdout",
     "output_type": "stream",
     "text": [
      "Prompt:\n",
      "Long hair, angled cut, beach waves\n",
      "\n",
      "Generated instruction:\n",
      "My advice would be to find a professional stylist. They will have a good idea of what kind of haircuts will work best for your hair and will be able to make it work for you. They will also be able to give you a better idea of what kinds of products will work best for your hair type. This may seem like a hassle but you will get better results that way.\n",
      "\n",
      "Ground truth:\n",
      "What are the best hairstyles for a round face?\n"
     ]
    }
   ],
   "source": [
    "from datasets import load_dataset \n",
    "from random import randrange\n",
    " \n",
    " \n",
    "# 从hub加载数据集并得到一个样本\n",
    "# dataset = load_dataset(\"databricks/databricks-dolly-15k\", split=\"train\")\n",
    "dataset = load_dataset(\"/home/rr-ai/huggingface_datasets/databricks-dolly-15k\", split=\"train\")\n",
    "\n",
    "sample = dataset[randrange(len(dataset))]\n",
    " \n",
    "prompt = f\"\"\"### Instruction:\n",
    "Use the Input below to create an instruction, which could have been used to generate the input using an LLM. \n",
    " \n",
    "### Input:\n",
    "{sample['response']}\n",
    " \n",
    "### Response:\n",
    "\"\"\"\n",
    " \n",
    "input_ids = tokenizer(prompt, return_tensors=\"pt\", truncation=True).input_ids.cuda()\n",
    "\n",
    "outputs = model.generate(input_ids=input_ids, max_new_tokens=100, do_sample=True, top_p=0.9,temperature=0.9)\n",
    "\n",
    "print(f\"Prompt:\\n{sample['response']}\\n\")\n",
    "print(f\"Generated instruction:\\n{tokenizer.batch_decode(outputs.detach().cpu().numpy(), skip_special_tokens=True)[0][len(prompt):]}\")\n",
    "print(f\"Ground truth:\\n{sample['instruction']}\")"
   ]
  },
  {
   "cell_type": "code",
   "execution_count": null,
   "id": "7f6ea5b0-cf32-4cc0-bd5e-fc17268992c0",
   "metadata": {},
   "outputs": [],
   "source": []
  }
 ],
 "metadata": {
  "kernelspec": {
   "display_name": "Python 3 (ipykernel)",
   "language": "python",
   "name": "python3"
  },
  "language_info": {
   "codemirror_mode": {
    "name": "ipython",
    "version": 3
   },
   "file_extension": ".py",
   "mimetype": "text/x-python",
   "name": "python",
   "nbconvert_exporter": "python",
   "pygments_lexer": "ipython3",
   "version": "3.11.7"
  }
 },
 "nbformat": 4,
 "nbformat_minor": 5
}
